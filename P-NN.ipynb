{
 "cells": [
  {
   "cell_type": "code",
   "execution_count": 1,
   "metadata": {
    "collapsed": true,
    "scrolled": false
   },
   "outputs": [],
   "source": [
    "import numpy as np\n",
    "import matplotlib.pyplot as plt"
   ]
  },
  {
   "cell_type": "code",
   "execution_count": 2,
   "metadata": {},
   "outputs": [
    {
     "name": "stdout",
     "output_type": "stream",
     "text": [
      "Plotting data with + indicating (y = 1) examples and o indicating (y = 0) examples\n"
     ]
    },
    {
     "data": {
      "image/png": "[encoded data removed]",
      "text/plain": [
       "<matplotlib.figure.Figure at 0x77e06d8>"
      ]
     },
     "metadata": {},
     "output_type": "display_data"
    }
   ],
   "source": [
    "# File 'ex2data1.txt' contains data in 3 columns\n",
    "# Columns 1 and 2 are exam scores\n",
    "# Column 3 is the label\n",
    "\n",
    "f = open('ex2data1.txt', 'r')\n",
    "x1_list = []\n",
    "x2_list = []\n",
    "y_list = []\n",
    "\n",
    "for line in f:\n",
    "    x1_str, x2_str, y_str = line.split(',')\n",
    "    x1_list.append(float(x1_str))\n",
    "    x2_list.append(float(x2_str))\n",
    "    y_list.append(int(y_str))\n",
    "\n",
    "# Let's now plot the data\n",
    "    \n",
    "print('Plotting data with + indicating (y = 1) examples and o indicating (y = 0) examples')\n",
    "\n",
    "for i in range(0,len(y_list)):\n",
    "    if y_list[i] == 1:\n",
    "        plt.plot(x1_list[i],x2_list[i],'b+',linewidth=0)\n",
    "    else:\n",
    "        plt.plot(x1_list[i],x2_list[i],'ro',linewidth=0)\n",
    "plt.xlabel('Exam 1 score')\n",
    "plt.ylabel('Exam 2 score')\n",
    "plt.show()"
   ]
  },
  {
   "cell_type": "code",
   "execution_count": 3,
   "metadata": {},
   "outputs": [],
   "source": [
    "# Normalize the data\n",
    "x1 = np.matrix(x1_list).reshape(len(x1_list),1)\n",
    "x2 = np.matrix(x2_list).reshape(len(x2_list),1)\n",
    "\n",
    "max_x1 = np.amax(x1, axis=0)\n",
    "max_x2 = np.amax(x2, axis=0)\n",
    "min_x1 = np.amin(x1, axis=0)\n",
    "min_x2 = np.amin(x2, axis=0)\n",
    "mean_x1 = np.average(x1, axis=0)\n",
    "mean_x2 = np.average(x2, axis=0)\n",
    "\n",
    "for i in range(0,len(y_list)):\n",
    "    x1[i,0] = (x1[i,0] - mean_x1) / (max_x1 - min_x1)\n",
    "    x2[i,0] = (x2[i,0] - mean_x2) / (max_x2 - min_x2)\n"
   ]
  },
  {
   "cell_type": "code",
   "execution_count": 4,
   "metadata": {
    "collapsed": true
   },
   "outputs": [],
   "source": [
    "y = np.matrix(y_list).reshape(len(y_list),1)\n",
    "X = np.c_[x1,x2]\n",
    "\n",
    "m = len(y_list)\n",
    "nn_input_dim = 2\n",
    "nn_output_dim = 2\n",
    "nn_hidden_dim = 5\n"
   ]
  },
  {
   "cell_type": "code",
   "execution_count": 5,
   "metadata": {
    "scrolled": false
   },
   "outputs": [],
   "source": [
    "# Initialize weights\n",
    "W1 = np.random.random((nn_input_dim, nn_hidden_dim)) * 2.0 - 1.0\n",
    "b1 = np.zeros((1, nn_hidden_dim))\n",
    "W2 = np.random.random((nn_hidden_dim, nn_output_dim)) * 2.0 - 1.0\n",
    "b2 = np.zeros((1, nn_output_dim))"
   ]
  },
  {
   "cell_type": "code",
   "execution_count": 6,
   "metadata": {
    "scrolled": false
   },
   "outputs": [
    {
     "name": "stdout",
     "output_type": "stream",
     "text": [
      "W1:  [[ 0.65151171 -0.38198799 -0.93355731  0.51767817 -0.6703484 ]\n",
      " [ 0.82935139 -0.15985876 -0.05400091  0.24187882 -0.05106153]]\n",
      "b1:  [[ 0.  0.  0.  0.  0.]]\n",
      "W2:  [[ 0.3795989  -0.07144333]\n",
      " [-0.39295786  0.41482622]\n",
      " [ 0.93374748 -0.74741437]\n",
      " [-0.80421196  0.28453994]\n",
      " [ 0.2902257  -0.8437296 ]]\n",
      "b2:  [[ 0.  0.]]\n"
     ]
    }
   ],
   "source": [
    "print('W1: ',W1)\n",
    "print('b1: ',b1)\n",
    "print('W2: ',W2)\n",
    "print('b2: ',b2)"
   ]
  },
  {
   "cell_type": "code",
   "execution_count": 7,
   "metadata": {
    "collapsed": true
   },
   "outputs": [],
   "source": [
    "# X          m x nn_input_dim\n",
    "# W1, dW1    nn_input_dim x nn_hidden_dim\n",
    "# b1, db1    1 x nn_hidden_dim\n",
    "# s1         m x nn_hidden_dim\n",
    "# h1         m x nn_hidden_dim\n",
    "# W2, dW2    nn_hidden_dim x nn_output_dim\n",
    "# b2, db2    1 x nn_output_dim\n",
    "# s2         m x nn_output_dim\n",
    "# esp_score  m x nn_output_dim\n",
    "# h          m x nn_output_dim\n",
    "# delta2     m x nn_output_dim\n",
    "# delta1     m x nn_hidden_dim "
   ]
  },
  {
   "cell_type": "code",
   "execution_count": 8,
   "metadata": {},
   "outputs": [
    {
     "name": "stdout",
     "output_type": "stream",
     "text": [
      "Accuracy of predictions at iteration  0  :  0.74\n",
      "Cross entropy loss:  73.9142069156\n",
      "Accuracy of predictions at iteration  100  :  0.71\n",
      "Cross entropy loss:  73.4190759997\n",
      "Accuracy of predictions at iteration  200  :  0.63\n",
      "Cross entropy loss:  72.7467228312\n",
      "Accuracy of predictions at iteration  300  :  0.54\n",
      "Cross entropy loss:  72.4733115782\n",
      "Accuracy of predictions at iteration  400  :  0.53\n",
      "Cross entropy loss:  71.6697877794\n",
      "Accuracy of predictions at iteration  500  :  0.53\n",
      "Cross entropy loss:  70.2705033028\n",
      "Accuracy of predictions at iteration  600  :  0.56\n",
      "Cross entropy loss:  69.4182748745\n",
      "Accuracy of predictions at iteration  700  :  0.63\n",
      "Cross entropy loss:  69.255436843\n",
      "Accuracy of predictions at iteration  800  :  0.66\n",
      "Cross entropy loss:  69.2775371365\n",
      "Accuracy of predictions at iteration  900  :  0.67\n",
      "Cross entropy loss:  69.3005161051\n",
      "Accuracy of predictions at iteration  1000  :  0.69\n",
      "Cross entropy loss:  69.3103864776\n",
      "Accuracy of predictions at iteration  1100  :  0.69\n",
      "Cross entropy loss:  69.314025031\n",
      "Accuracy of predictions at iteration  1200  :  0.69\n",
      "Cross entropy loss:  69.3152777247\n",
      "Accuracy of predictions at iteration  1300  :  0.7\n",
      "Cross entropy loss:  69.3156438487\n",
      "Accuracy of predictions at iteration  1400  :  0.7\n",
      "Cross entropy loss:  69.3156834526\n",
      "Accuracy of predictions at iteration  1500  :  0.7\n",
      "Cross entropy loss:  69.3156092495\n",
      "Accuracy of predictions at iteration  1600  :  0.7\n",
      "Cross entropy loss:  69.315503253\n",
      "Accuracy of predictions at iteration  1700  :  0.7\n",
      "Cross entropy loss:  69.315396633\n",
      "Accuracy of predictions at iteration  1800  :  0.71\n",
      "Cross entropy loss:  69.315300285\n",
      "Accuracy of predictions at iteration  1900  :  0.71\n",
      "Cross entropy loss:  69.315216987\n",
      "Accuracy of predictions at iteration  2000  :  0.71\n",
      "Cross entropy loss:  69.3151463747\n",
      "Accuracy of predictions at iteration  2100  :  0.71\n",
      "Cross entropy loss:  69.3150870044\n",
      "Accuracy of predictions at iteration  2200  :  0.71\n",
      "Cross entropy loss:  69.3150371993\n",
      "Accuracy of predictions at iteration  2300  :  0.71\n",
      "Cross entropy loss:  69.3149953781\n",
      "Accuracy of predictions at iteration  2400  :  0.71\n",
      "Cross entropy loss:  69.314960164\n",
      "Accuracy of predictions at iteration  2500  :  0.71\n",
      "Cross entropy loss:  69.3149304018\n",
      "Accuracy of predictions at iteration  2600  :  0.71\n",
      "Cross entropy loss:  69.3149051395\n",
      "Accuracy of predictions at iteration  2700  :  0.71\n",
      "Cross entropy loss:  69.3148835998\n",
      "Accuracy of predictions at iteration  2800  :  0.71\n",
      "Cross entropy loss:  69.3148651494\n",
      "Accuracy of predictions at iteration  2900  :  0.72\n",
      "Cross entropy loss:  69.314849273\n",
      "Accuracy of predictions at iteration  3000  :  0.72\n",
      "Cross entropy loss:  69.3148355506\n",
      "Accuracy of predictions at iteration  3100  :  0.72\n",
      "Cross entropy loss:  69.3148236383\n",
      "Accuracy of predictions at iteration  3200  :  0.72\n",
      "Cross entropy loss:  69.3148132543\n",
      "Accuracy of predictions at iteration  3300  :  0.72\n",
      "Cross entropy loss:  69.3148041661\n",
      "Accuracy of predictions at iteration  3400  :  0.72\n",
      "Cross entropy loss:  69.3147961815\n",
      "Accuracy of predictions at iteration  3500  :  0.72\n",
      "Cross entropy loss:  69.3147891407\n",
      "Accuracy of predictions at iteration  3600  :  0.72\n",
      "Cross entropy loss:  69.3147829105\n",
      "Accuracy of predictions at iteration  3700  :  0.72\n",
      "Cross entropy loss:  69.3147773791\n",
      "Accuracy of predictions at iteration  3800  :  0.72\n",
      "Cross entropy loss:  69.3147724524\n",
      "Accuracy of predictions at iteration  3900  :  0.72\n",
      "Cross entropy loss:  69.314768051\n",
      "Accuracy of predictions at iteration  4000  :  0.72\n",
      "Cross entropy loss:  69.3147641075\n",
      "Accuracy of predictions at iteration  4100  :  0.72\n",
      "Cross entropy loss:  69.3147605644\n",
      "Accuracy of predictions at iteration  4200  :  0.72\n",
      "Cross entropy loss:  69.3147573726\n",
      "Accuracy of predictions at iteration  4300  :  0.72\n",
      "Cross entropy loss:  69.3147544901\n",
      "Accuracy of predictions at iteration  4400  :  0.72\n",
      "Cross entropy loss:  69.3147518806\n",
      "Accuracy of predictions at iteration  4500  :  0.72\n",
      "Cross entropy loss:  69.3147495128\n",
      "Accuracy of predictions at iteration  4600  :  0.72\n",
      "Cross entropy loss:  69.3147473595\n",
      "Accuracy of predictions at iteration  4700  :  0.72\n",
      "Cross entropy loss:  69.3147453971\n",
      "Accuracy of predictions at iteration  4800  :  0.72\n",
      "Cross entropy loss:  69.3147436051\n",
      "Accuracy of predictions at iteration  4900  :  0.72\n",
      "Cross entropy loss:  69.3147419655\n",
      "Accuracy of predictions at iteration  5000  :  0.72\n",
      "Cross entropy loss:  69.3147404626\n",
      "Accuracy of predictions at iteration  5100  :  0.72\n",
      "Cross entropy loss:  69.3147390824\n",
      "Accuracy of predictions at iteration  5200  :  0.72\n",
      "Cross entropy loss:  69.3147378127\n",
      "Accuracy of predictions at iteration  5300  :  0.72\n",
      "Cross entropy loss:  69.3147366428\n",
      "Accuracy of predictions at iteration  5400  :  0.72\n",
      "Cross entropy loss:  69.314735563\n",
      "Accuracy of predictions at iteration  5500  :  0.72\n",
      "Cross entropy loss:  69.314734565\n",
      "Accuracy of predictions at iteration  5600  :  0.72\n",
      "Cross entropy loss:  69.3147336411\n",
      "Accuracy of predictions at iteration  5700  :  0.72\n",
      "Cross entropy loss:  69.3147327847\n",
      "Accuracy of predictions at iteration  5800  :  0.72\n",
      "Cross entropy loss:  69.3147319896\n",
      "Accuracy of predictions at iteration  5900  :  0.72\n",
      "Cross entropy loss:  69.3147312506\n",
      "Accuracy of predictions at iteration  6000  :  0.72\n",
      "Cross entropy loss:  69.3147305627\n",
      "Accuracy of predictions at iteration  6100  :  0.72\n",
      "Cross entropy loss:  69.3147299217\n",
      "Accuracy of predictions at iteration  6200  :  0.72\n",
      "Cross entropy loss:  69.3147293236\n",
      "Accuracy of predictions at iteration  6300  :  0.72\n",
      "Cross entropy loss:  69.314728765\n",
      "Accuracy of predictions at iteration  6400  :  0.72\n",
      "Cross entropy loss:  69.3147282426\n",
      "Accuracy of predictions at iteration  6500  :  0.72\n",
      "Cross entropy loss:  69.3147277535\n",
      "Accuracy of predictions at iteration  6600  :  0.72\n",
      "Cross entropy loss:  69.3147272952\n",
      "Accuracy of predictions at iteration  6700  :  0.72\n",
      "Cross entropy loss:  69.3147268652\n",
      "Accuracy of predictions at iteration  6800  :  0.72\n",
      "Cross entropy loss:  69.3147264614\n",
      "Accuracy of predictions at iteration  6900  :  0.72\n",
      "Cross entropy loss:  69.3147260819\n",
      "Accuracy of predictions at iteration  7000  :  0.72\n",
      "Cross entropy loss:  69.3147257248\n",
      "Accuracy of predictions at iteration  7100  :  0.72\n",
      "Cross entropy loss:  69.3147253886\n",
      "Accuracy of predictions at iteration  7200  :  0.72\n",
      "Cross entropy loss:  69.3147250717\n",
      "Accuracy of predictions at iteration  7300  :  0.72\n",
      "Cross entropy loss:  69.3147247728\n",
      "Accuracy of predictions at iteration  7400  :  0.72\n",
      "Cross entropy loss:  69.3147244906\n",
      "Accuracy of predictions at iteration  7500  :  0.72\n",
      "Cross entropy loss:  69.3147242239\n",
      "Accuracy of predictions at iteration  7600  :  0.72\n",
      "Cross entropy loss:  69.3147239718\n",
      "Accuracy of predictions at iteration  7700  :  0.72\n",
      "Cross entropy loss:  69.3147237332\n",
      "Accuracy of predictions at iteration  7800  :  0.72\n",
      "Cross entropy loss:  69.3147235072\n",
      "Accuracy of predictions at iteration  7900  :  0.72\n",
      "Cross entropy loss:  69.3147232931\n",
      "Accuracy of predictions at iteration  8000  :  0.72\n",
      "Cross entropy loss:  69.31472309\n",
      "Accuracy of predictions at iteration  8100  :  0.72\n",
      "Cross entropy loss:  69.3147228972\n",
      "Accuracy of predictions at iteration  8200  :  0.72\n",
      "Cross entropy loss:  69.3147227142\n",
      "Accuracy of predictions at iteration  8300  :  0.72\n",
      "Cross entropy loss:  69.3147225402\n",
      "Accuracy of predictions at iteration  8400  :  0.72\n",
      "Cross entropy loss:  69.3147223748\n",
      "Accuracy of predictions at iteration  8500  :  0.72\n",
      "Cross entropy loss:  69.3147222175\n",
      "Accuracy of predictions at iteration  8600  :  0.72\n",
      "Cross entropy loss:  69.3147220676\n",
      "Accuracy of predictions at iteration  8700  :  0.72\n",
      "Cross entropy loss:  69.3147219249\n",
      "Accuracy of predictions at iteration  8800  :  0.72\n",
      "Cross entropy loss:  69.3147217889\n",
      "Accuracy of predictions at iteration  8900  :  0.72\n",
      "Cross entropy loss:  69.3147216591\n",
      "Accuracy of predictions at iteration  9000  :  0.72\n",
      "Cross entropy loss:  69.3147215353\n",
      "Accuracy of predictions at iteration  9100  :  0.72\n",
      "Cross entropy loss:  69.3147214171\n",
      "Accuracy of predictions at iteration  9200  :  0.72\n",
      "Cross entropy loss:  69.3147213042\n",
      "Accuracy of predictions at iteration  9300  :  0.72\n",
      "Cross entropy loss:  69.3147211963\n",
      "Accuracy of predictions at iteration  9400  :  0.72\n",
      "Cross entropy loss:  69.3147210931\n",
      "Accuracy of predictions at iteration  9500  :  0.72\n",
      "Cross entropy loss:  69.3147209943\n",
      "Accuracy of predictions at iteration  9600  :  0.72\n",
      "Cross entropy loss:  69.3147208998\n"
     ]
    },
    {
     "name": "stdout",
     "output_type": "stream",
     "text": [
      "Accuracy of predictions at iteration  9700  :  0.72\n",
      "Cross entropy loss:  69.3147208093\n",
      "Accuracy of predictions at iteration  9800  :  0.72\n",
      "Cross entropy loss:  69.3147207226\n",
      "Accuracy of predictions at iteration  9900  :  0.72\n",
      "Cross entropy loss:  69.3147206395\n"
     ]
    }
   ],
   "source": [
    "# train the model\n",
    "\n",
    "num_passes = 10000\n",
    "alpha = 0.0001\n",
    "\n",
    "for i in range(0, num_passes):\n",
    " \n",
    "    # Forward propagation\n",
    "    s1 = X.dot(W1) + b1\n",
    "    h1 = np.tanh(s1)\n",
    "    s2 = h1.dot(W2) + b2\n",
    "    exp_scores = np.exp(s2)\n",
    "    h = exp_scores / np.sum(exp_scores, axis=1) # softmax\n",
    "    \n",
    "    if (i%100 == 0) :\n",
    "        predict = [1 if k >= 0.5 else 0 for k in h[:,1]]\n",
    "        print('Accuracy of predictions at iteration ', i, ' : ', np.sum(np.equal(predict,y_list))/len(y_list))\n",
    "        loss = np.sum(-np.log(h[range(m), y])) * 1.0/m\n",
    "        print('Cross entropy loss: ', loss)\n",
    "    \n",
    "    # Backpropagation\n",
    "    delta2 = h\n",
    "    delta2[range(m), y] -= 1\n",
    "    dW2 = (h1.T).dot(delta2)\n",
    "    db2 = np.sum(delta2, axis=0)\n",
    "    delta1 = np.multiply(delta2.dot(W2.T), (1 - np.power(h1, 2)))\n",
    "    dW1 = np.dot(X.T, delta1)\n",
    "    db1 = np.sum(delta1, axis=0)\n",
    "        \n",
    "    # Gradient descent parameter update\n",
    "    W1 += -alpha * dW1\n",
    "    b1 += -alpha * db1\n",
    "    W2 += -alpha * dW2\n",
    "    b2 += -alpha * db2\n",
    " "
   ]
  },
  {
   "cell_type": "code",
   "execution_count": 9,
   "metadata": {
    "scrolled": false
   },
   "outputs": [
    {
     "name": "stdout",
     "output_type": "stream",
     "text": [
      "W1:  [[ 0.36952334 -0.25137726 -0.41965606  0.2317469  -0.30691329]\n",
      " [ 0.45780755 -0.08282693 -0.04929     0.13995282 -0.03682894]]\n",
      "b1:  [[ 4.95065424  4.90465128  4.92602178 -4.93842297 -4.94337618]]\n",
      "W2:  [[ 48.68935535  48.30847146]\n",
      " [ 46.92266457  47.88192838]\n",
      " [ 48.66428744  47.26253281]\n",
      " [-49.42119292 -48.62604502]\n",
      " [-48.51042316 -49.7906836 ]]\n",
      "b2:  [[ 49.83088688  50.16911312]]\n",
      "FINAL Accuracy of predictions:  0.72\n",
      "FINAL Cross entropy loss:  69.3147205599\n"
     ]
    }
   ],
   "source": [
    "# Calculate the error on the training set based on recent weights\n",
    "s1 = X.dot(W1) + b1\n",
    "h1 = np.tanh(s1)\n",
    "s2 = h1.dot(W2) + b2\n",
    "exp_scores = np.exp(s2)\n",
    "h = exp_scores / np.sum(exp_scores, axis=1) # softmax\n",
    "\n",
    "# Calculate error for the given weights\n",
    "print('W1: ',W1)\n",
    "print('b1: ',b1)\n",
    "print('W2: ',W2)\n",
    "print('b2: ',b2)\n",
    "predict = [1 if k >= 0.5 else 0 for k in h[:,1]]\n",
    "print('FINAL Accuracy of predictions: ', np.sum(np.equal(predict,y_list))/len(y_list))\n",
    "loss = np.sum(-np.log(h[range(m), y])) * 1.0/m\n",
    "print('FINAL Cross entropy loss: ', loss)"
   ]
  },
  {
   "cell_type": "code",
   "execution_count": 10,
   "metadata": {
    "scrolled": true
   },
   "outputs": [
    {
     "name": "stdout",
     "output_type": "stream",
     "text": [
      "For a student with scores 45 and 85, we predict an admission probability of  0.92238782768\n"
     ]
    }
   ],
   "source": [
    "# Make prediction\n",
    "Example = np.matrix([45, 85]).reshape(1,2)\n",
    "s1 = Example.dot(W1) + b1\n",
    "h1 = np.tanh(s1)\n",
    "s2 = h1.dot(W2) + b2\n",
    "exp_scores = np.exp(s2)\n",
    "h = exp_scores / np.sum(exp_scores, axis=1) # softmax\n",
    "print('For a student with scores 45 and 85, we predict an admission probability of ', h[0,1])"
   ]
  }
 ],
 "metadata": {
  "kernelspec": {
   "display_name": "Python 3",
   "language": "python",
   "name": "python3"
  },
  "language_info": {
   "codemirror_mode": {
    "name": "ipython",
    "version": 3
   },
   "file_extension": ".py",
   "mimetype": "text/x-python",
   "name": "python",
   "nbconvert_exporter": "python",
   "pygments_lexer": "ipython3",
   "version": "3.7.1"
  }
 },
 "nbformat": 4,
 "nbformat_minor": 2
}
