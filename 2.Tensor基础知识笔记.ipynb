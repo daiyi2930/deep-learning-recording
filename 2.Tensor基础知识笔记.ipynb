{
 "cells": [
  {
   "cell_type": "markdown",
   "metadata": {},
   "source": [
    "**张量（tensor）：**\n",
    "一般来说，当前所有机器学习的系统都适用张量作为基本的数据结构。将数据存储在多维Numpy数组中（即：张量）TensorFlow是以张量tensor命名的。\n",
    "张量tensor是一个数据容器，这里说的数据几乎总是数值数据。\n",
    "矩阵是二维张量。张量可以看作矩阵向任意维度的推广。\n",
    "\n",
    "**0D张量：**\n",
    "仅包含一个数字的张量叫标量（scalar）也叫标量张量/零维张量/0D张量\n",
    "在Numpy中，一个float32或float64的数字就是一个标量张量。\n",
    "\n",
    "可以用ndim来查看一个Numpy张量的轴个数。\n",
    "\n",
    "标量张量有0个轴（ndim==0）\n",
    "\n",
    "\n",
    "张量轴的个数也叫阶（rank）\n"
   ]
  },
  {
   "cell_type": "code",
   "execution_count": 1,
   "metadata": {},
   "outputs": [
    {
     "data": {
      "text/plain": [
       "0"
      ]
     },
     "execution_count": 1,
     "metadata": {},
     "output_type": "execute_result"
    }
   ],
   "source": [
    "import numpy as np\n",
    "x=np.array(12)\n",
    "x.ndim"
   ]
  },
  {
   "cell_type": "markdown",
   "metadata": {},
   "source": [
    "**1D张量（向量vector）：**\n",
    "数字组成的数组叫1维张量，或者向量。1维张量/向量只有一个轴"
   ]
  },
  {
   "cell_type": "code",
   "execution_count": 22,
   "metadata": {},
   "outputs": [
    {
     "data": {
      "text/plain": [
       "1"
      ]
     },
     "execution_count": 22,
     "metadata": {},
     "output_type": "execute_result"
    }
   ],
   "source": [
    "a=np.array([1,2,3,4,5])\n",
    "a.ndim\n",
    "#ndim显示张量有几个轴，向量vector是一维张量，一维就是一个轴"
   ]
  },
  {
   "cell_type": "code",
   "execution_count": 23,
   "metadata": {},
   "outputs": [
    {
     "data": {
      "text/plain": [
       "2"
      ]
     },
     "execution_count": 23,
     "metadata": {},
     "output_type": "execute_result"
    }
   ],
   "source": [
    "#矩阵是2D张量，有两个轴,rows&columns,matrix是vector组成的，即2D张量是1D张量组成的\n",
    "x=np.array([[1,2,3,4],[5,6,7,8],[9,10,11,12]])\n",
    "x.ndim"
   ]
  },
  {
   "cell_type": "code",
   "execution_count": 24,
   "metadata": {},
   "outputs": [
    {
     "name": "stdout",
     "output_type": "stream",
     "text": [
      "[[ 1  2  3  4]\n",
      " [ 5  6  7  8]\n",
      " [ 9 10 11 12]]\n"
     ]
    }
   ],
   "source": [
    "print(x)"
   ]
  },
  {
   "cell_type": "code",
   "execution_count": 25,
   "metadata": {
    "scrolled": true
   },
   "outputs": [
    {
     "name": "stdout",
     "output_type": "stream",
     "text": [
      "3\n"
     ]
    }
   ],
   "source": [
    "#同理，3D张量是2D张量组成的，将多个矩阵组合成一个数组，得到一个3D tensor\n",
    "import numpy as np\n",
    "y=np.array([[[1,2,3,4],[5,6,7,8],[9,10,11,12]],[[1,2,3,4],[5,6,7,8],[9,10,11,12]],[[1,2,3,4],[5,6,7,8],[9,10,11,12]]])\n",
    "y.ndim\n",
    "e=y.ndim\n",
    "print(e)"
   ]
  },
  {
   "cell_type": "code",
   "execution_count": 17,
   "metadata": {
    "scrolled": true
   },
   "outputs": [
    {
     "data": {
      "text/plain": [
       "4"
      ]
     },
     "execution_count": 17,
     "metadata": {},
     "output_type": "execute_result"
    }
   ],
   "source": [
    "#以此类推，4D张量是3D张量组成的\n",
    "z=np.array([[[[1,2,3,4],[5,6,7,8],[9,10,11,12]],[[1,2,3,4],[5,6,7,8],[9,10,11,12]],[[1,2,3,4],[5,6,7,8],[9,10,11,12]]],\n",
    "           [[[1,2,3,4],[5,6,7,8],[9,10,11,12]],[[1,2,3,4],[5,6,7,8],[9,10,11,12]],[[1,2,3,4],[5,6,7,8],[9,10,11,12]]],\n",
    "           [[[1,2,3,4],[5,6,7,8],[9,10,11,12]],[[1,2,3,4],[5,6,7,8],[9,10,11,12]],[[1,2,3,4],[5,6,7,8],[9,10,11,12]]]])\n",
    "z.ndim"
   ]
  },
  {
   "cell_type": "markdown",
   "metadata": {},
   "source": [
    "tensor是由3个关键属性来定义的\n",
    "\n",
    "属性1:ndim 即轴的个数，0轴tensor是标量（一个数），1轴tensor是vector可以写成list的形式，2轴tensor是矩阵matrix，3Dtensor是由2Dtensor组成的，以此类推\n",
    "\n",
    "属性2:形状，是一个整数元祖，表示tensor在每个轴上有几个元素（每个轴上的数据量）\n",
    "\n",
    "属性3:数据类型dtype，tensor中包含的数据的类型，float32，float64，uint8"
   ]
  },
  {
   "cell_type": "code",
   "execution_count": 21,
   "metadata": {},
   "outputs": [
    {
     "name": "stdout",
     "output_type": "stream",
     "text": [
      "(3, 4)\n",
      "(3, 3, 4)\n",
      "(3, 3, 3, 4)\n"
     ]
    }
   ],
   "source": [
    "print(x.shape)#x是一个2D的tensor，因此shape有两位（1位，2位），x是3行4列的矩阵，因此第一个轴‘row’中的数据量为3，第二个轴‘column’的数据量为4\n",
    "print(y.shape)#y是一个3个x组成的3D的tensor，因此它的shape有三位（1位，2位，3位），第一位代表有几个（3个）2D tensor组成，第二位第三位代表每个2Dtensor的形状\n",
    "print(z.shape)#z是一个由3个3D tensor组成的4D tensor，因此他的shape有四位（1位，2位，3位，4位），第一位代表由3个3Dtensor组成，后三位代表每个3Dtensor的形状"
   ]
  },
  {
   "cell_type": "code",
   "execution_count": 33,
   "metadata": {},
   "outputs": [
    {
     "name": "stdout",
     "output_type": "stream",
     "text": [
      "()\n",
      "\n",
      "\n",
      "(2,)\n",
      "\n",
      "\n",
      "(2, 2)\n",
      "\n",
      "\n",
      "(2, 2, 2)\n",
      "\n",
      "\n",
      "(2, 2, 3)\n"
     ]
    }
   ],
   "source": [
    "tensor_0_D=np.array(8)\n",
    "print(tensor_0_D.shape)#0D tensor的shape是（），标量的shape为空\n",
    "tensor_1_D=np.array([1,2])\n",
    "print('\\n')\n",
    "print(tensor_1_D.shape)#1D tensor的shape是一个轴（1轴，），一个轴上有两个元素所以是（2，）\n",
    "tensor_2_D=np.array([[1,2],[1,2]])\n",
    "print('\\n')\n",
    "print(tensor_2_D.shape)#2D tensor但shape是两个轴（1轴，2轴），轴1是行数：2，轴2是列数：2，因此shape（2，2）\n",
    "tensor_3_D=np.array([[[1,2],[1,2]],[[1,2],[1,2]]])\n",
    "print('\\n')\n",
    "print(tensor_3_D.shape)#3Dtensor的形状是3个轴，轴1是由几个2Dtensor组成：2，轴2是2Dtensor的行数：2，轴2是2Dtensor的列数：2，因此（2，2，2）\n",
    "tensor_3_D_1=np.array([[[2,2,2],[2,2,2]],[[1,1,1],[1,1,1]]]) #(2,2,3)\n",
    "print('\\n')\n",
    "print(tensor_3_D_1.shape)"
   ]
  },
  {
   "cell_type": "code",
   "execution_count": 35,
   "metadata": {},
   "outputs": [
    {
     "name": "stdout",
     "output_type": "stream",
     "text": [
      "int64\n",
      "\n",
      "\n",
      "float64\n",
      "\n",
      "\n",
      "int64\n",
      "\n",
      "\n",
      "int64\n"
     ]
    }
   ],
   "source": [
    "print(tensor_0_D.dtype)\n",
    "print('\\n')\n",
    "tensor_1_D=np.array([1.,2.])\n",
    "print(tensor_1_D.dtype)\n",
    "print('\\n')\n",
    "print(tensor_2_D.dtype)\n",
    "print('\\n')\n",
    "print(tensor_3_D.dtype)"
   ]
  },
  {
   "cell_type": "code",
   "execution_count": null,
   "metadata": {},
   "outputs": [],
   "source": []
  }
 ],
 "metadata": {
  "kernelspec": {
   "display_name": "Python 3",
   "language": "python",
   "name": "python3"
  },
  "language_info": {
   "codemirror_mode": {
    "name": "ipython",
    "version": 3
   },
   "file_extension": ".py",
   "mimetype": "text/x-python",
   "name": "python",
   "nbconvert_exporter": "python",
   "pygments_lexer": "ipython3",
   "version": "3.7.1"
  }
 },
 "nbformat": 4,
 "nbformat_minor": 2
}
