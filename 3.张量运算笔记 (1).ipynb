{
 "cells": [
  {
   "cell_type": "markdown",
   "metadata": {},
   "source": [
    "**张量切片**\n",
    "\n",
    "选择张量的特定切片叫张量切片"
   ]
  },
  {
   "cell_type": "code",
   "execution_count": 12,
   "metadata": {},
   "outputs": [
    {
     "data": {
      "text/plain": [
       "<function matplotlib.pyplot.show(*args, **kw)>"
      ]
     },
     "execution_count": 12,
     "metadata": {},
     "output_type": "execute_result"
    },
    {
     "data": {
      "image/png": "[encoded data removed]",
      "text/plain": [
       "<Figure size 432x288 with 1 Axes>"
      ]
     },
     "metadata": {
      "needs_background": "light"
     },
     "output_type": "display_data"
    }
   ],
   "source": [
    "import numpy as np\n",
    "from tensorflow import keras\n",
    "from tensorflow.keras.datasets import mnist\n",
    "(train_images,train_labels),(test_images,test_labels)=mnist.load_data()\n",
    "#选择train_images中的第5张图片并显示出来\n",
    "digit_5=train_images[4]\n",
    "import matplotlib.pyplot as plt\n",
    "plt.imshow(digit_4,cmap=plt.cm.binary)\n",
    "plt.show"
   ]
  },
  {
   "cell_type": "code",
   "execution_count": 4,
   "metadata": {},
   "outputs": [
    {
     "data": {
      "text/plain": [
       "(3, 28, 28)"
      ]
     },
     "execution_count": 4,
     "metadata": {},
     "output_type": "execute_result"
    }
   ],
   "source": [
    "list_0=train_images[0:3]#choose 3 pics and print\n",
    "list_0.shape"
   ]
  },
  {
   "cell_type": "markdown",
   "metadata": {},
   "source": [
    "数据张量的第一个轴（0轴）一般都是样本轴（samples axis），即多少个样本（图片），这里是Index为0，1，2的三个samples\n",
    "\n",
    "深度学习一般是分批量训练的（batch）因此一个batch的第一个轴也叫做批量轴（batch axis）\n",
    "\n",
    "\n",
    "下面定义逐元素的运算（element-wise operation)"
   ]
  },
  {
   "cell_type": "code",
   "execution_count": 10,
   "metadata": {},
   "outputs": [],
   "source": [
    "#对于矩阵（2D张量），形状为（rows，columns），也是（samples，features）\n",
    "#对于3D张量，如时间序列数据或序列数据，形状为（samples，timesteps，features）\n",
    "#image是4D张量，形状（samples，height，width，channels）\n",
    "#video是5D张量，形状（samples，frames，height，width，channels）\n",
    "#最常见的数据存在matix里面，第一个轴是样本轴，第二个轴是feature轴，比如记录1000个人的年龄性别收入的2D张量形状为（1000，3）\n",
    "#下面定义一下relu的公式（求参数x与0哪个更大并保留较大的那个）\n",
    "def naive_relu(x):\n",
    "    assert len(x.shape)==2 #检查x是否是一个2D张量，如果不是马上返回error\n",
    "    x=x.copy()#复制出一个x以免之后的计算覆盖掉x本身的值\n",
    "    for i in range(x.shape[0]):#对x的sample轴做迭代（第一个轴）\n",
    "        for j in range(x.shape[1]):\n",
    "            x[i,j]=max(x[i,j],0)\n",
    "    return x"
   ]
  },
  {
   "cell_type": "code",
   "execution_count": 12,
   "metadata": {},
   "outputs": [],
   "source": [
    "#两个形状相同的张量逐元素相加\n",
    "def naive_add(x,y):\n",
    "    assert len(x.shape)==2\n",
    "    assert x.shape==y.shape\n",
    "    x=x.copy()\n",
    "    for i in range(x.shape[0]):\n",
    "        for j in range(x.shape[1]):\n",
    "            x[i,j]+=y[i,j]\n",
    "    return x"
   ]
  },
  {
   "cell_type": "code",
   "execution_count": 15,
   "metadata": {},
   "outputs": [
    {
     "data": {
      "text/plain": [
       "'\"\\nz=x+y\\nz=np.maximum(z,0)\\n'"
      ]
     },
     "execution_count": 15,
     "metadata": {},
     "output_type": "execute_result"
    }
   ],
   "source": [
    "#实际上在numpy里面内置了逐元素的加法和类似relu的运算，如下\n",
    "\"\"\"\"\n",
    "z=x+y\n",
    "z=np.maximum(z,0)\n",
    "\"\"\"\"\""
   ]
  },
  {
   "cell_type": "markdown",
   "metadata": {},
   "source": [
    "逐元素的加法仅支持形状相同的两个张量相加，但是如果我们在运算中将两个形状不同的张量相加，那么ndim较小的张量会被广播，以获得和ndim较大的张量相同的shape，再进行逐元素操作。\n",
    "\n",
    "1.首先为ndim小的张量增加轴，直到ndim与较大的张量一样大；\n",
    "\n",
    "2.较小的张量沿着新轴重复，使其形状与较大的张量相同。\n",
    "\n",
    "比如一个2D张量x，shape为（32，10），另一个1D张量y，形状为（10，）（y只有一个轴，逗号是用元组tuple存数字时自带的）；\n",
    "\n",
    "首先给y增加一个新的空轴，y.shape=(1,10),（此时len（y.shape）==2，y成为一个2D张量），然后将y沿着新轴重复32次，和x的形状一致。\n",
    "\n",
    "for i in range(0,32):\n",
    "   Y[i,:]=y\n",
    "   \n",
    "当然y的广播过程没有真的发生在内存中，虽然在计算时操作的结果和这种思维模型的结果一致（见下方def）\n",
    "\n",
    "prerequisite：(倒数几个轴要完全相同才能通过广播补齐再相加）\n",
    "\n",
    "ndim较大的张量形状是（a,b,c......n,n+1,....m)\n",
    "\n",
    "ndim较小的张量形状是（n,n+1,....m)\n",
    "\n",
    "则系统会自动填充（a,...n-1)之间的轴"
   ]
  },
  {
   "cell_type": "code",
   "execution_count": 18,
   "metadata": {},
   "outputs": [],
   "source": [
    "def naive_add_marix_and_vector(x,y):\n",
    "    assert len(x.shape)==2\n",
    "    assert len(y.shape)==1\n",
    "    assert x.shape[1]==y.shape[0]#他俩能相加的先决条件是倒数几个轴shape都一样\n",
    "    \n",
    "    x=x.copy()\n",
    "    for i in range(x.shape[0]):\n",
    "        for j in range(x.shape[1]):\n",
    "            x[i,j]=x[i,j]+y[j]\n",
    "    return x"
   ]
  },
  {
   "cell_type": "code",
   "execution_count": 19,
   "metadata": {},
   "outputs": [
    {
     "data": {
      "text/plain": [
       "(64, 3, 32, 10)"
      ]
     },
     "execution_count": 19,
     "metadata": {},
     "output_type": "execute_result"
    }
   ],
   "source": [
    "x=np.random.random((64,3,32,10))#用np随机生成shape是这样的张量\n",
    "y=np.random.random((32,10))\n",
    "z=np.maximum(x,y)\n",
    "z.shape"
   ]
  },
  {
   "cell_type": "markdown",
   "metadata": {},
   "source": [
    "张量点积（tensor product）\n",
    "\n",
    "✳️代表的是逐元乘积\n",
    "\n",
    "在numpy和keras里，都是用dot来代表点积的"
   ]
  },
  {
   "cell_type": "code",
   "execution_count": 22,
   "metadata": {},
   "outputs": [
    {
     "data": {
      "text/plain": [
       "array([[2, 4],\n",
       "       [6, 8]])"
      ]
     },
     "execution_count": 22,
     "metadata": {},
     "output_type": "execute_result"
    }
   ],
   "source": [
    "a=np.array([[1,2],[3,4]])\n",
    "b=np.array([[2,2],[2,2]])\n",
    "a*b"
   ]
  },
  {
   "cell_type": "code",
   "execution_count": 25,
   "metadata": {},
   "outputs": [
    {
     "data": {
      "text/plain": [
       "array([[ 7, 10],\n",
       "       [15, 22]])"
      ]
     },
     "execution_count": 25,
     "metadata": {},
     "output_type": "execute_result"
    }
   ],
   "source": [
    "c=np.array([[1,2],[3,4]])\n",
    "np.dot(a,c)"
   ]
  },
  {
   "cell_type": "code",
   "execution_count": 47,
   "metadata": {},
   "outputs": [],
   "source": [
    "#dot(x,y)实际上的内置函数\n",
    "def naive_vector_dot(x,y):\n",
    "    assert len(x.shape)==1\n",
    "    assert len(y.shape)==1#ensure x and y are vectors\n",
    "    z=0\n",
    "    for i in range(x.shape[0]):#vector不存在转置的问题，记录其shape的tuple只有一个轴，是第一个（0轴）\n",
    "        z=z+x[i]*y[i]\n",
    "    print(z)"
   ]
  },
  {
   "cell_type": "code",
   "execution_count": 48,
   "metadata": {},
   "outputs": [
    {
     "name": "stdout",
     "output_type": "stream",
     "text": [
      "5\n"
     ]
    }
   ],
   "source": [
    "a=b=np.array([1,2])\n",
    "naive_vector_dot(a,b)"
   ]
  },
  {
   "cell_type": "code",
   "execution_count": 35,
   "metadata": {},
   "outputs": [
    {
     "data": {
      "text/plain": [
       "(2, 4)"
      ]
     },
     "execution_count": 35,
     "metadata": {},
     "output_type": "execute_result"
    }
   ],
   "source": [
    "x=np.array([[1,2,3,4],[5,5,6,7]])\n",
    "x.shape"
   ]
  },
  {
   "cell_type": "code",
   "execution_count": 36,
   "metadata": {},
   "outputs": [
    {
     "data": {
      "text/plain": [
       "array([[1, 5],\n",
       "       [2, 5],\n",
       "       [3, 6],\n",
       "       [4, 7]])"
      ]
     },
     "execution_count": 36,
     "metadata": {},
     "output_type": "execute_result"
    }
   ],
   "source": [
    "x.T"
   ]
  },
  {
   "cell_type": "code",
   "execution_count": 37,
   "metadata": {},
   "outputs": [
    {
     "data": {
      "text/plain": [
       "array([1, 2, 3])"
      ]
     },
     "execution_count": 37,
     "metadata": {},
     "output_type": "execute_result"
    }
   ],
   "source": [
    "#vector无法转置\n",
    "a=np.array([1,2,3])\n",
    "a.T"
   ]
  },
  {
   "cell_type": "code",
   "execution_count": 54,
   "metadata": {},
   "outputs": [],
   "source": [
    "def naive_vector_dot(x,y):\n",
    "    assert len(x.shape)==1\n",
    "    assert len(y.shape)==1\n",
    "    z=0\n",
    "    for i in range(x.shape[0]):\n",
    "        z=z+x[i]*y[i]\n",
    "    return z"
   ]
  },
  {
   "cell_type": "code",
   "execution_count": 55,
   "metadata": {},
   "outputs": [],
   "source": [
    "def naive_matrix_vector_dot(x,y):\n",
    "    assert len(x.shape)==2\n",
    "    assert len(y.shape)==1\n",
    "    assert x.shape[1]==y.shape[0]\n",
    "    z=np.zeros(x.shape[0])\n",
    "    for i in range(x.shape[0]):\n",
    "        z[i]=naive_vector_dot(x[i,:],y)\n",
    "    return z"
   ]
  },
  {
   "cell_type": "code",
   "execution_count": 56,
   "metadata": {},
   "outputs": [
    {
     "data": {
      "text/plain": [
       "array([11., 25.])"
      ]
     },
     "execution_count": 56,
     "metadata": {},
     "output_type": "execute_result"
    }
   ],
   "source": [
    "a=np.array([1,2])\n",
    "b=np.array([3,4])\n",
    "c=np.array([[1,2],[3,4]])\n",
    "naive_vector_dot(a,b)\n",
    "naive_matrix_vector_dot(c,b)"
   ]
  },
  {
   "cell_type": "code",
   "execution_count": null,
   "metadata": {},
   "outputs": [],
   "source": []
  }
 ],
 "metadata": {
  "kernelspec": {
   "display_name": "Python 3",
   "language": "python",
   "name": "python3"
  },
  "language_info": {
   "codemirror_mode": {
    "name": "ipython",
    "version": 3
   },
   "file_extension": ".py",
   "mimetype": "text/x-python",
   "name": "python",
   "nbconvert_exporter": "python",
   "pygments_lexer": "ipython3",
   "version": "3.6.8"
  }
 },
 "nbformat": 4,
 "nbformat_minor": 2
}
